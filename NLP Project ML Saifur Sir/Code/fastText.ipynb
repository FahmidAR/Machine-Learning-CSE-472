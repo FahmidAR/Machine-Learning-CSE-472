{
 "cells": [
  {
   "cell_type": "code",
   "execution_count": 1,
   "metadata": {},
   "outputs": [
    {
     "name": "stdout",
     "output_type": "stream",
     "text": [
      "current directory d:\\4-2\\CSE 472\\Project ML Saifur Sir\\Code\n"
     ]
    }
   ],
   "source": [
    "import os\n",
    "print(\"current directory\" , os.getcwd())"
   ]
  },
  {
   "cell_type": "code",
   "execution_count": 2,
   "metadata": {},
   "outputs": [
    {
     "name": "stdout",
     "output_type": "stream",
     "text": [
      "(16926, 3)\n",
      "                                    comment_sentence  partition category\n",
      "0                          impl deleg old filesystem          0  summary\n",
      "1  link applicationstart applicationstartdata suppos          1  summary\n",
      "2          invok first write histori data one applic          0  summary\n"
     ]
    }
   ],
   "source": [
    "import pandas as pd\n",
    "\n",
    "# Read the CSV file and select only the \"category\" and \"comment_sentence\" columns\n",
    "df = pd.read_csv(\"java_2.csv\", usecols=[\"category\", \"comment_sentence\",\"partition\"])\n",
    "\n",
    "# Print the shape and first 3 rows of the resulting dataframe\n",
    "print(df.shape)\n",
    "print(df.head(3))\n"
   ]
  },
  {
   "cell_type": "code",
   "execution_count": 4,
   "metadata": {},
   "outputs": [
    {
     "name": "stdout",
     "output_type": "stream",
     "text": [
      "                                    comment_sentence  partition category\n",
      "0                          impl deleg old filesystem          0  summary\n",
      "2          invok first write histori data one applic          0  summary\n",
      "4  open file link applicationfinish applicationfi...          0  summary\n",
      "                                    comment_sentence  partition category\n",
      "1  link applicationstart applicationstartdata suppos          1  summary\n",
      "3                                       tree paramet          1  summary\n",
      "5   kept small avoid kill object store test run much          1  summary\n"
     ]
    }
   ],
   "source": [
    "# Filter for train data (where partition == 0)\n",
    "train_df = df[df[\"partition\"] == 0]\n",
    "\n",
    "# Filter for test data (where partition == 1)\n",
    "test_df = df[df[\"partition\"] == 1]\n",
    "\n",
    "\n",
    "# Print the head of the train dataframe\n",
    "print(train_df.head(3))\n",
    "\n",
    "# Print the head of the test dataframe\n",
    "print(test_df.head(3))\n",
    "\n"
   ]
  },
  {
   "cell_type": "code",
   "execution_count": 1,
   "metadata": {},
   "outputs": [
    {
     "ename": "ModuleNotFoundError",
     "evalue": "No module named 'fasttext'",
     "output_type": "error",
     "traceback": [
      "\u001b[1;31m---------------------------------------------------------------------------\u001b[0m",
      "\u001b[1;31mModuleNotFoundError\u001b[0m                       Traceback (most recent call last)",
      "Cell \u001b[1;32mIn[1], line 1\u001b[0m\n\u001b[1;32m----> 1\u001b[0m \u001b[39mimport\u001b[39;00m \u001b[39mfasttext\u001b[39;00m\n\u001b[0;32m      2\u001b[0m \u001b[39mimport\u001b[39;00m \u001b[39mnumpy\u001b[39;00m \u001b[39mas\u001b[39;00m \u001b[39mnp\u001b[39;00m\n\u001b[0;32m      3\u001b[0m \u001b[39mfrom\u001b[39;00m \u001b[39msklearn\u001b[39;00m\u001b[39m.\u001b[39;00m\u001b[39mmetrics\u001b[39;00m \u001b[39mimport\u001b[39;00m f1_score\n",
      "\u001b[1;31mModuleNotFoundError\u001b[0m: No module named 'fasttext'"
     ]
    }
   ],
   "source": [
    "import fasttext\n",
    "import numpy as np\n",
    "from sklearn.metrics import f1_score\n",
    "\n",
    "# Train a FastText model on the train dataframe\n",
    "model = fasttext.train_supervised(input=train_df[\"comment_sentence\"])\n",
    "\n",
    "# Evaluate the model on the test dataframe\n",
    "result = model.test(test_df[\"comment_sentence\"])\n",
    "\n",
    "# Predict the labels for the test data using the trained model\n",
    "y_pred = [model.predict(text)[0][0] for text in test_df[\"comment_sentence\"]]\n",
    "\n",
    "# Convert the true labels to the same format as the predicted labels\n",
    "y_true = np.array(test_df[\"category\"].tolist())\n",
    "\n",
    "# Calculate the F1 score\n",
    "f1 = f1_score(y_true, y_pred, average=\"macro\")\n",
    "\n",
    "# Print the test accuracy and F1 score\n",
    "print(f\"Test accuracy: {result[1]:.2f}\")\n",
    "print(f\"F1 score: {f1:.2f}\")\n"
   ]
  }
 ],
 "metadata": {
  "kernelspec": {
   "display_name": "Python 3",
   "language": "python",
   "name": "python3"
  },
  "language_info": {
   "codemirror_mode": {
    "name": "ipython",
    "version": 3
   },
   "file_extension": ".py",
   "mimetype": "text/x-python",
   "name": "python",
   "nbconvert_exporter": "python",
   "pygments_lexer": "ipython3",
   "version": "3.10.2"
  },
  "orig_nbformat": 4,
  "vscode": {
   "interpreter": {
    "hash": "6d2a065b2f97f5f6cbf35b79cdc610ddf7fe848efae5367204b1cdd3505286e5"
   }
  }
 },
 "nbformat": 4,
 "nbformat_minor": 2
}
